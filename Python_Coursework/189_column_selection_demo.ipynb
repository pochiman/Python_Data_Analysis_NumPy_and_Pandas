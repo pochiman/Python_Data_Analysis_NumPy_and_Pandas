{
 "cells": [
  {
   "cell_type": "code",
   "execution_count": 1,
   "id": "06714fc7-fc5c-4470-bf1f-7ba1cfacf8d9",
   "metadata": {},
   "outputs": [],
   "source": [
    "import pandas as pd"
   ]
  },
  {
   "cell_type": "code",
   "execution_count": null,
   "id": "d2b21770-eac5-44dc-bd3a-b53db8bbd30e",
   "metadata": {},
   "outputs": [],
   "source": [
    "columns = [\"index\", \"Date\", \"Oil Price\"]\n",
    "\n",
    "oil = pd.read_csv(\"../retail/oil.csv\",\n",
    "                  header=0,\n",
    "                  names=columns\n",
    "                 )\n",
    "\n",
    "oil.head()"
   ]
  },
  {
   "cell_type": "code",
   "execution_count": null,
   "id": "f48a0d78-a920-4294-8998-89a6ecd18957",
   "metadata": {},
   "outputs": [],
   "source": [
    "columns = [\"index\", \"Date\", \"Oil Price\"]\n",
    "\n",
    "oil = pd.read_csv(\"../retail/oil.csv\",\n",
    "                  header=0,\n",
    "                  names=columns,\n",
    "                  index_col=\"Date\"\n",
    "                 )\n",
    "\n",
    "oil.head()"
   ]
  },
  {
   "cell_type": "code",
   "execution_count": null,
   "id": "baea664c-574a-4115-8c9e-9bb6d9a9e8a1",
   "metadata": {},
   "outputs": [],
   "source": [
    "columns = [\"index\", \"Date\", \"Oil Price\"]\n",
    "\n",
    "oil = pd.read_csv(\"../retail/oil.csv\",\n",
    "                  header=0,\n",
    "                  names=columns,\n",
    "                  index_col=\"Date\"\n",
    "                 )\n",
    "\n",
    "oil.index.dtype"
   ]
  },
  {
   "cell_type": "code",
   "execution_count": null,
   "id": "f820a6b9-63e4-409b-9877-68cf09f286e4",
   "metadata": {},
   "outputs": [],
   "source": [
    "columns = [\"index\", \"Date\", \"Oil Price\"]\n",
    "\n",
    "oil = pd.read_csv(\"../retail/oil.csv\",\n",
    "                  header=0,\n",
    "                  names=columns,\n",
    "                  index_col=\"Date\",\n",
    "                  parse_dates=True\n",
    "                 )\n",
    "\n",
    "oil.index.dtype"
   ]
  },
  {
   "cell_type": "code",
   "execution_count": null,
   "id": "b3bb8f3c-e9ee-4bbc-a968-be45e2185aa6",
   "metadata": {},
   "outputs": [],
   "source": [
    "columns = [\"index\", \"Date\", \"Oil Price\"]\n",
    "\n",
    "oil = pd.read_csv(\"../retail/oil.csv\",\n",
    "                  header=0,\n",
    "                  names=columns,\n",
    "                  index_col=\"Date\",\n",
    "                  parse_dates=True\n",
    "                 )\n",
    "\n",
    "oil.head()"
   ]
  },
  {
   "cell_type": "code",
   "execution_count": null,
   "id": "085d5ec4-703f-4fda-ad5b-01d1de5b4d49",
   "metadata": {},
   "outputs": [],
   "source": [
    "columns = [\"index\", \"Date\", \"Oil Price\"]\n",
    "\n",
    "oil = pd.read_csv(\"../retail/oil.csv\",\n",
    "                  header=0,\n",
    "                  names=columns,\n",
    "                  index_col=\"Date\",\n",
    "                  parse_dates=True,\n",
    "                  usecols=[\"Date\", \"Oil Price\"]\n",
    "                 )\n",
    "\n",
    "oil.head()"
   ]
  },
  {
   "cell_type": "code",
   "execution_count": null,
   "id": "ead59845-22cd-4325-a71d-3140f7ef353c",
   "metadata": {},
   "outputs": [],
   "source": [
    "columns = [\"index\", \"Date\", \"Oil Price\"]\n",
    "\n",
    "oil = pd.read_csv(\"../retail/oil.csv\",\n",
    "                  header=0,\n",
    "                  names=columns,\n",
    "                  index_col=\"Date\",\n",
    "                  parse_dates=True,\n",
    "                  usecols=[\"Date\", \"Oil Price\"]\n",
    "                 )\n",
    "\n",
    "oil.head()"
   ]
  }
 ],
 "metadata": {
  "kernelspec": {
   "display_name": "Python 3 (ipykernel)",
   "language": "python",
   "name": "python3"
  },
  "language_info": {
   "codemirror_mode": {
    "name": "ipython",
    "version": 3
   },
   "file_extension": ".py",
   "mimetype": "text/x-python",
   "name": "python",
   "nbconvert_exporter": "python",
   "pygments_lexer": "ipython3",
   "version": "3.11.10"
  }
 },
 "nbformat": 4,
 "nbformat_minor": 5
}
