{
 "cells": [
  {
   "cell_type": "code",
   "execution_count": 2,
   "id": "43994994-59dc-4e11-abd7-d4d507142996",
   "metadata": {},
   "outputs": [],
   "source": [
    "import pandas as pd"
   ]
  },
  {
   "cell_type": "code",
   "execution_count": 4,
   "id": "db096c3b-b943-4736-a525-59c5fbf578f9",
   "metadata": {},
   "outputs": [
    {
     "data": {
      "text/html": [
       "<div>\n",
       "<style scoped>\n",
       "    .dataframe tbody tr th:only-of-type {\n",
       "        vertical-align: middle;\n",
       "    }\n",
       "\n",
       "    .dataframe tbody tr th {\n",
       "        vertical-align: top;\n",
       "    }\n",
       "\n",
       "    .dataframe thead th {\n",
       "        text-align: right;\n",
       "    }\n",
       "</style>\n",
       "<table border=\"1\" class=\"dataframe\">\n",
       "  <thead>\n",
       "    <tr style=\"text-align: right;\">\n",
       "      <th></th>\n",
       "      <th>id</th>\n",
       "      <th>date</th>\n",
       "      <th>store_nbr</th>\n",
       "      <th>family</th>\n",
       "      <th>sales</th>\n",
       "      <th>onpromotion</th>\n",
       "    </tr>\n",
       "  </thead>\n",
       "  <tbody>\n",
       "    <tr>\n",
       "      <th>0</th>\n",
       "      <td>1945944</td>\n",
       "      <td>2016-01-01</td>\n",
       "      <td>1</td>\n",
       "      <td>AUTOMOTIVE</td>\n",
       "      <td>0.0</td>\n",
       "      <td>0</td>\n",
       "    </tr>\n",
       "    <tr>\n",
       "      <th>1</th>\n",
       "      <td>1945945</td>\n",
       "      <td>2016-01-01</td>\n",
       "      <td>1</td>\n",
       "      <td>BABY CARE</td>\n",
       "      <td>0.0</td>\n",
       "      <td>0</td>\n",
       "    </tr>\n",
       "    <tr>\n",
       "      <th>2</th>\n",
       "      <td>1945946</td>\n",
       "      <td>2016-01-01</td>\n",
       "      <td>1</td>\n",
       "      <td>BEAUTY</td>\n",
       "      <td>0.0</td>\n",
       "      <td>0</td>\n",
       "    </tr>\n",
       "    <tr>\n",
       "      <th>3</th>\n",
       "      <td>1945947</td>\n",
       "      <td>2016-01-01</td>\n",
       "      <td>1</td>\n",
       "      <td>BEVERAGES</td>\n",
       "      <td>0.0</td>\n",
       "      <td>0</td>\n",
       "    </tr>\n",
       "    <tr>\n",
       "      <th>4</th>\n",
       "      <td>1945948</td>\n",
       "      <td>2016-01-01</td>\n",
       "      <td>1</td>\n",
       "      <td>BOOKS</td>\n",
       "      <td>0.0</td>\n",
       "      <td>0</td>\n",
       "    </tr>\n",
       "  </tbody>\n",
       "</table>\n",
       "</div>"
      ],
      "text/plain": [
       "        id        date  store_nbr      family  sales  onpromotion\n",
       "0  1945944  2016-01-01          1  AUTOMOTIVE    0.0            0\n",
       "1  1945945  2016-01-01          1   BABY CARE    0.0            0\n",
       "2  1945946  2016-01-01          1      BEAUTY    0.0            0\n",
       "3  1945947  2016-01-01          1   BEVERAGES    0.0            0\n",
       "4  1945948  2016-01-01          1       BOOKS    0.0            0"
      ]
     },
     "execution_count": 4,
     "metadata": {},
     "output_type": "execute_result"
    }
   ],
   "source": [
    "retail = pd.read_csv('../retail/retail_2016_2017.csv')\n",
    "\n",
    "retail.head()"
   ]
  },
  {
   "cell_type": "code",
   "execution_count": 5,
   "id": "545043d5-863a-414f-b65d-964bca71e527",
   "metadata": {},
   "outputs": [
    {
     "data": {
      "text/plain": [
       "family\n",
       "AUTOMOTIVE                    31968\n",
       "HOME APPLIANCES               31968\n",
       "SCHOOL AND OFFICE SUPPLIES    31968\n",
       "PRODUCE                       31968\n",
       "PREPARED FOODS                31968\n",
       "POULTRY                       31968\n",
       "PLAYERS AND ELECTRONICS       31968\n",
       "PET SUPPLIES                  31968\n",
       "PERSONAL CARE                 31968\n",
       "MEATS                         31968\n",
       "MAGAZINES                     31968\n",
       "LIQUOR,WINE,BEER              31968\n",
       "LINGERIE                      31968\n",
       "LAWN AND GARDEN               31968\n",
       "LADIESWEAR                    31968\n",
       "HOME CARE                     31968\n",
       "HOME AND KITCHEN II           31968\n",
       "BABY CARE                     31968\n",
       "HOME AND KITCHEN I            31968\n",
       "HARDWARE                      31968\n",
       "GROCERY II                    31968\n",
       "GROCERY I                     31968\n",
       "FROZEN FOODS                  31968\n",
       "EGGS                          31968\n",
       "DELI                          31968\n",
       "DAIRY                         31968\n",
       "CLEANING                      31968\n",
       "CELEBRATION                   31968\n",
       "BREAD/BAKERY                  31968\n",
       "BOOKS                         31968\n",
       "BEVERAGES                     31968\n",
       "BEAUTY                        31968\n",
       "SEAFOOD                       31968\n",
       "Name: count, dtype: int64"
      ]
     },
     "execution_count": 5,
     "metadata": {},
     "output_type": "execute_result"
    }
   ],
   "source": [
    "retail.loc[:, 'family'].value_counts()"
   ]
  },
  {
   "cell_type": "code",
   "execution_count": 6,
   "id": "74df85a6-a92b-4614-b0a4-085a0774794d",
   "metadata": {},
   "outputs": [],
   "source": [
    "product_category_dict = {\n",
    "    'PRODUCE': 'Grocery',\n",
    "    'POULTRY': 'Grocery',\n",
    "    'GROCERY I': 'Grocery',\n",
    "    'GROCERY II': 'Grocery',\n",
    "    'EGGS': 'Grocery'}"
   ]
  },
  {
   "cell_type": "code",
   "execution_count": 7,
   "id": "cc35410c-5d7b-436b-98f4-6999138e9fbc",
   "metadata": {},
   "outputs": [
    {
     "data": {
      "text/plain": [
       "0              NaN\n",
       "1              NaN\n",
       "2              NaN\n",
       "3              NaN\n",
       "4              NaN\n",
       "            ...   \n",
       "1054939    Grocery\n",
       "1054940        NaN\n",
       "1054941    Grocery\n",
       "1054942        NaN\n",
       "1054943        NaN\n",
       "Name: family, Length: 1054944, dtype: object"
      ]
     },
     "execution_count": 7,
     "metadata": {},
     "output_type": "execute_result"
    }
   ],
   "source": [
    "retail.loc[: , \"family\"].map(product_category_dict)"
   ]
  },
  {
   "cell_type": "code",
   "execution_count": 8,
   "id": "df4f8355-d8ef-4a9f-b541-7139f036a1e0",
   "metadata": {},
   "outputs": [
    {
     "data": {
      "text/plain": [
       "family\n",
       "Grocery    159840\n",
       "Name: count, dtype: int64"
      ]
     },
     "execution_count": 8,
     "metadata": {},
     "output_type": "execute_result"
    }
   ],
   "source": [
    "retail.loc[: , \"family\"].map(product_category_dict).value_counts()"
   ]
  },
  {
   "cell_type": "code",
   "execution_count": 9,
   "id": "ed4feae6-8ddb-488f-84a1-ccb67b1da3b5",
   "metadata": {},
   "outputs": [
    {
     "data": {
      "text/plain": [
       "family\n",
       "NaN        895104\n",
       "Grocery    159840\n",
       "Name: count, dtype: int64"
      ]
     },
     "execution_count": 9,
     "metadata": {},
     "output_type": "execute_result"
    }
   ],
   "source": [
    "retail.loc[: , \"family\"].map(product_category_dict).value_counts(dropna=False)"
   ]
  },
  {
   "cell_type": "code",
   "execution_count": null,
   "id": "30b1905b-1fa6-4278-b41b-7778ccbaa650",
   "metadata": {},
   "outputs": [],
   "source": []
  }
 ],
 "metadata": {
  "kernelspec": {
   "display_name": "Python 3 (ipykernel)",
   "language": "python",
   "name": "python3"
  },
  "language_info": {
   "codemirror_mode": {
    "name": "ipython",
    "version": 3
   },
   "file_extension": ".py",
   "mimetype": "text/x-python",
   "name": "python",
   "nbconvert_exporter": "python",
   "pygments_lexer": "ipython3",
   "version": "3.11.10"
  }
 },
 "nbformat": 4,
 "nbformat_minor": 5
}
