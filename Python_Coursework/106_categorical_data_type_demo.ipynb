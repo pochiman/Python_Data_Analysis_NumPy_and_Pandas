{
 "cells": [
  {
   "cell_type": "code",
   "execution_count": 1,
   "id": "83e25921-6e98-4301-8036-5f319ff5c88c",
   "metadata": {},
   "outputs": [],
   "source": [
    "import pandas as pd"
   ]
  },
  {
   "cell_type": "code",
   "execution_count": 2,
   "id": "9f112a62-a75f-492c-8352-9bcfce870c2b",
   "metadata": {},
   "outputs": [
    {
     "name": "stdout",
     "output_type": "stream",
     "text": [
      "<class 'pandas.core.frame.DataFrame'>\n",
      "RangeIndex: 1054944 entries, 0 to 1054943\n",
      "Data columns (total 6 columns):\n",
      " #   Column       Non-Null Count    Dtype  \n",
      "---  ------       --------------    -----  \n",
      " 0   id           1054944 non-null  int64  \n",
      " 1   date         1054944 non-null  object \n",
      " 2   store_nbr    1054944 non-null  int64  \n",
      " 3   family       1054944 non-null  object \n",
      " 4   sales        1054944 non-null  float64\n",
      " 5   onpromotion  1054944 non-null  int64  \n",
      "dtypes: float64(1), int64(3), object(2)\n",
      "memory usage: 167.8 MB\n"
     ]
    }
   ],
   "source": [
    "retail = pd.read_csv('../retail/retail_2016_2017.csv')\n",
    "\n",
    "retail.info(memory_usage=\"deep\")"
   ]
  },
  {
   "cell_type": "code",
   "execution_count": 3,
   "id": "1d5661ea-316f-4eaa-88c7-0211a6d88597",
   "metadata": {},
   "outputs": [
    {
     "data": {
      "text/plain": [
       "family\n",
       "AUTOMOTIVE                    31968\n",
       "HOME APPLIANCES               31968\n",
       "SCHOOL AND OFFICE SUPPLIES    31968\n",
       "PRODUCE                       31968\n",
       "PREPARED FOODS                31968\n",
       "POULTRY                       31968\n",
       "PLAYERS AND ELECTRONICS       31968\n",
       "PET SUPPLIES                  31968\n",
       "PERSONAL CARE                 31968\n",
       "MEATS                         31968\n",
       "MAGAZINES                     31968\n",
       "LIQUOR,WINE,BEER              31968\n",
       "LINGERIE                      31968\n",
       "LAWN AND GARDEN               31968\n",
       "LADIESWEAR                    31968\n",
       "HOME CARE                     31968\n",
       "HOME AND KITCHEN II           31968\n",
       "BABY CARE                     31968\n",
       "HOME AND KITCHEN I            31968\n",
       "HARDWARE                      31968\n",
       "GROCERY II                    31968\n",
       "GROCERY I                     31968\n",
       "FROZEN FOODS                  31968\n",
       "EGGS                          31968\n",
       "DELI                          31968\n",
       "DAIRY                         31968\n",
       "CLEANING                      31968\n",
       "CELEBRATION                   31968\n",
       "BREAD/BAKERY                  31968\n",
       "BOOKS                         31968\n",
       "BEVERAGES                     31968\n",
       "BEAUTY                        31968\n",
       "SEAFOOD                       31968\n",
       "Name: count, dtype: int64"
      ]
     },
     "execution_count": 3,
     "metadata": {},
     "output_type": "execute_result"
    }
   ],
   "source": [
    "retail.loc[:, \"family\"].value_counts()"
   ]
  },
  {
   "cell_type": "code",
   "execution_count": 4,
   "id": "1aa217bf-b1da-4f3b-b26c-bb6e77d88bd0",
   "metadata": {},
   "outputs": [
    {
     "data": {
      "text/plain": [
       "id                int64\n",
       "date             object\n",
       "store_nbr         int64\n",
       "family         category\n",
       "sales           float64\n",
       "onpromotion       int64\n",
       "dtype: object"
      ]
     },
     "execution_count": 4,
     "metadata": {},
     "output_type": "execute_result"
    }
   ],
   "source": [
    "retail = retail.astype({\"family\": \"category\"})\n",
    "\n",
    "retail.dtypes"
   ]
  },
  {
   "cell_type": "code",
   "execution_count": 5,
   "id": "7ab5f71e-2b96-474c-aef1-2e517dd68f5f",
   "metadata": {},
   "outputs": [
    {
     "data": {
      "text/plain": [
       "family\n",
       "AUTOMOTIVE                    31968\n",
       "HOME APPLIANCES               31968\n",
       "SCHOOL AND OFFICE SUPPLIES    31968\n",
       "PRODUCE                       31968\n",
       "PREPARED FOODS                31968\n",
       "POULTRY                       31968\n",
       "PLAYERS AND ELECTRONICS       31968\n",
       "PET SUPPLIES                  31968\n",
       "PERSONAL CARE                 31968\n",
       "MEATS                         31968\n",
       "MAGAZINES                     31968\n",
       "LIQUOR,WINE,BEER              31968\n",
       "LINGERIE                      31968\n",
       "LAWN AND GARDEN               31968\n",
       "LADIESWEAR                    31968\n",
       "HOME CARE                     31968\n",
       "HOME AND KITCHEN II           31968\n",
       "BABY CARE                     31968\n",
       "HOME AND KITCHEN I            31968\n",
       "HARDWARE                      31968\n",
       "GROCERY II                    31968\n",
       "GROCERY I                     31968\n",
       "FROZEN FOODS                  31968\n",
       "EGGS                          31968\n",
       "DELI                          31968\n",
       "DAIRY                         31968\n",
       "CLEANING                      31968\n",
       "CELEBRATION                   31968\n",
       "BREAD/BAKERY                  31968\n",
       "BOOKS                         31968\n",
       "BEVERAGES                     31968\n",
       "BEAUTY                        31968\n",
       "SEAFOOD                       31968\n",
       "Name: count, dtype: int64"
      ]
     },
     "execution_count": 5,
     "metadata": {},
     "output_type": "execute_result"
    }
   ],
   "source": [
    "retail.loc[:, \"family\"].value_counts()"
   ]
  },
  {
   "cell_type": "code",
   "execution_count": 6,
   "id": "4817a404-4c9a-4a0b-ae6d-848bd6ce7b01",
   "metadata": {},
   "outputs": [
    {
     "name": "stdout",
     "output_type": "stream",
     "text": [
      "<class 'pandas.core.frame.DataFrame'>\n",
      "RangeIndex: 1054944 entries, 0 to 1054943\n",
      "Data columns (total 6 columns):\n",
      " #   Column       Non-Null Count    Dtype   \n",
      "---  ------       --------------    -----   \n",
      " 0   id           1054944 non-null  int64   \n",
      " 1   date         1054944 non-null  object  \n",
      " 2   store_nbr    1054944 non-null  int64   \n",
      " 3   family       1054944 non-null  category\n",
      " 4   sales        1054944 non-null  float64 \n",
      " 5   onpromotion  1054944 non-null  int64   \n",
      "dtypes: category(1), float64(1), int64(3), object(1)\n",
      "memory usage: 100.6 MB\n"
     ]
    }
   ],
   "source": [
    "retail.info(memory_usage=\"deep\")"
   ]
  },
  {
   "cell_type": "code",
   "execution_count": null,
   "id": "5208c4fa-cd51-4ca5-88b5-5f2d09b1ed2d",
   "metadata": {},
   "outputs": [],
   "source": []
  }
 ],
 "metadata": {
  "kernelspec": {
   "display_name": "Python 3 (ipykernel)",
   "language": "python",
   "name": "python3"
  },
  "language_info": {
   "codemirror_mode": {
    "name": "ipython",
    "version": 3
   },
   "file_extension": ".py",
   "mimetype": "text/x-python",
   "name": "python",
   "nbconvert_exporter": "python",
   "pygments_lexer": "ipython3",
   "version": "3.11.10"
  }
 },
 "nbformat": 4,
 "nbformat_minor": 5
}
