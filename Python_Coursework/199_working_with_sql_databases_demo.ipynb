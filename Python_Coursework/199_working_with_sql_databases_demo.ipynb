{
 "cells": [
  {
   "cell_type": "code",
   "execution_count": null,
   "id": "012a8d9f-b759-448f-9602-564c45d08c42",
   "metadata": {},
   "outputs": [],
   "source": [
    "import pandas as pd\n",
    "from sqlalchemy import create_engine, inspect"
   ]
  },
  {
   "cell_type": "code",
   "execution_count": null,
   "id": "993d6d8b-1b5d-41a1-ae33-981b06617d61",
   "metadata": {},
   "outputs": [],
   "source": [
    "engine = create_engine(\"sqlite:///../soccer_database.sqlite\")\n",
    "\n",
    "inspect(engine).get_table_names()"
   ]
  },
  {
   "cell_type": "code",
   "execution_count": null,
   "id": "d0c87cc6-05ed-4f8c-b1d0-d3fdf2c126b1",
   "metadata": {},
   "outputs": [],
   "source": [
    "pd.read_sql(\"SELECT * FROM player\", engine)"
   ]
  },
  {
   "cell_type": "code",
   "execution_count": null,
   "id": "38253a3a-c2ab-458b-b357-49516c9e3e2b",
   "metadata": {},
   "outputs": [],
   "source": [
    "pd.read_sql(\"SELECT * FROM player limit 5\", engine)"
   ]
  },
  {
   "cell_type": "code",
   "execution_count": null,
   "id": "799ca5bc-dd4c-4d3d-aab4-746b147feb03",
   "metadata": {},
   "outputs": [],
   "source": []
  },
  {
   "cell_type": "code",
   "execution_count": null,
   "id": "a9dc0f5c-fe44-4f54-a2f6-bfe39db03a15",
   "metadata": {},
   "outputs": [],
   "source": []
  }
 ],
 "metadata": {
  "kernelspec": {
   "display_name": "Python 3 (ipykernel)",
   "language": "python",
   "name": "python3"
  },
  "language_info": {
   "codemirror_mode": {
    "name": "ipython",
    "version": 3
   },
   "file_extension": ".py",
   "mimetype": "text/x-python",
   "name": "python",
   "nbconvert_exporter": "python",
   "pygments_lexer": "ipython3",
   "version": "3.11.10"
  }
 },
 "nbformat": 4,
 "nbformat_minor": 5
}
