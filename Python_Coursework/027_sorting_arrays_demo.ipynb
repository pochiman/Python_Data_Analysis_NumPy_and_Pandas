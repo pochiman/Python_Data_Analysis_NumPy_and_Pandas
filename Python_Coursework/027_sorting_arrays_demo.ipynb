{
 "cells": [
  {
   "cell_type": "code",
   "execution_count": 1,
   "id": "adb44dc3-3baf-4ddd-b51c-7750118233ed",
   "metadata": {},
   "outputs": [],
   "source": [
    "import numpy as np"
   ]
  },
  {
   "cell_type": "code",
   "execution_count": 2,
   "id": "3a45807f-0dfa-4949-bf73-ba8457b39860",
   "metadata": {},
   "outputs": [
    {
     "data": {
      "text/plain": [
       "array([205.4 , 158.4 , 138.4 , 186.24,   6.24, 202.92, 106.44,   3.68,\n",
       "        26.15, 403.2 ])"
      ]
     },
     "execution_count": 2,
     "metadata": {},
     "output_type": "execute_result"
    }
   ],
   "source": [
    "product_value = np.array(\n",
    "    [205.4 , 158.4 , 138.4 , 186.24,   6.24, 202.92, 106.44,  3.68,26.15, 403.2 ]\n",
    ")\n",
    "\n",
    "product_value"
   ]
  },
  {
   "cell_type": "code",
   "execution_count": 3,
   "id": "a13507db-2786-4618-8bd0-96324883fd94",
   "metadata": {},
   "outputs": [
    {
     "data": {
      "text/plain": [
       "array([  3.68,   6.24,  26.15, 106.44, 138.4 , 158.4 , 186.24, 202.92,\n",
       "       205.4 , 403.2 ])"
      ]
     },
     "execution_count": 3,
     "metadata": {},
     "output_type": "execute_result"
    }
   ],
   "source": [
    "np.sort(product_value)"
   ]
  },
  {
   "cell_type": "code",
   "execution_count": 4,
   "id": "cd3018db-8e54-472b-8ee6-0d5854ad7285",
   "metadata": {},
   "outputs": [
    {
     "data": {
      "text/plain": [
       "array([205.4 , 158.4 , 138.4 , 186.24,   6.24, 202.92, 106.44,   3.68,\n",
       "        26.15, 403.2 ])"
      ]
     },
     "execution_count": 4,
     "metadata": {},
     "output_type": "execute_result"
    }
   ],
   "source": [
    "product_value"
   ]
  },
  {
   "cell_type": "code",
   "execution_count": 5,
   "id": "d193c90a-0aa3-44b3-bf2e-9e48f7eae49e",
   "metadata": {},
   "outputs": [],
   "source": [
    "product_value.sort()"
   ]
  },
  {
   "cell_type": "code",
   "execution_count": 6,
   "id": "c0687194-8c9e-4e0d-bce1-9afd380b80ae",
   "metadata": {},
   "outputs": [
    {
     "data": {
      "text/plain": [
       "array([  3.68,   6.24,  26.15, 106.44, 138.4 , 158.4 , 186.24, 202.92,\n",
       "       205.4 , 403.2 ])"
      ]
     },
     "execution_count": 6,
     "metadata": {},
     "output_type": "execute_result"
    }
   ],
   "source": [
    "product_value"
   ]
  },
  {
   "cell_type": "code",
   "execution_count": 7,
   "id": "95fe6bac-1d8b-4149-b310-d1dbf311ecbd",
   "metadata": {},
   "outputs": [
    {
     "data": {
      "text/plain": [
       "3.68"
      ]
     },
     "execution_count": 7,
     "metadata": {},
     "output_type": "execute_result"
    }
   ],
   "source": [
    "product_value[0]"
   ]
  },
  {
   "cell_type": "code",
   "execution_count": 8,
   "id": "cebfe9a6-e39d-4c49-a055-4917300ee643",
   "metadata": {},
   "outputs": [
    {
     "data": {
      "text/plain": [
       "403.2"
      ]
     },
     "execution_count": 8,
     "metadata": {},
     "output_type": "execute_result"
    }
   ],
   "source": [
    "product_value[-1]"
   ]
  },
  {
   "cell_type": "code",
   "execution_count": 9,
   "id": "f98285b2-c5dc-47b2-83c2-7585b79f6d71",
   "metadata": {},
   "outputs": [
    {
     "data": {
      "text/plain": [
       "array([403.2 , 205.4 , 202.92, 186.24, 158.4 , 138.4 , 106.44,  26.15,\n",
       "         6.24,   3.68])"
      ]
     },
     "execution_count": 9,
     "metadata": {},
     "output_type": "execute_result"
    }
   ],
   "source": [
    "product_value[::-1]"
   ]
  },
  {
   "cell_type": "code",
   "execution_count": null,
   "id": "b852ffb7-f816-4ae2-86b1-090bbcb9c662",
   "metadata": {},
   "outputs": [],
   "source": []
  }
 ],
 "metadata": {
  "kernelspec": {
   "display_name": "Python 3 (ipykernel)",
   "language": "python",
   "name": "python3"
  },
  "language_info": {
   "codemirror_mode": {
    "name": "ipython",
    "version": 3
   },
   "file_extension": ".py",
   "mimetype": "text/x-python",
   "name": "python",
   "nbconvert_exporter": "python",
   "pygments_lexer": "ipython3",
   "version": "3.11.10"
  }
 },
 "nbformat": 4,
 "nbformat_minor": 5
}
