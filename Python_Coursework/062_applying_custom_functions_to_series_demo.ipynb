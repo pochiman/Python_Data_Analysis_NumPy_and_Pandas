{
 "cells": [
  {
   "cell_type": "code",
   "execution_count": 1,
   "id": "6ce1ec18-5a7d-407d-af5f-f05548f8b35b",
   "metadata": {},
   "outputs": [],
   "source": [
    "import pandas as pd\n",
    "import numpy as np"
   ]
  },
  {
   "cell_type": "code",
   "execution_count": 2,
   "id": "70e698d9-50de-476d-b6d1-fc074228cd58",
   "metadata": {},
   "outputs": [
    {
     "data": {
      "text/plain": [
       "0    day 0\n",
       "1    day 0\n",
       "2    day 2\n",
       "3    day 2\n",
       "4    day 4\n",
       "dtype: object"
      ]
     },
     "execution_count": 2,
     "metadata": {},
     "output_type": "execute_result"
    }
   ],
   "source": [
    "string_series = pd.Series(['day 0', 'day 0', 'day 2', 'day 2', 'day 4'])\n",
    "\n",
    "string_series"
   ]
  },
  {
   "cell_type": "code",
   "execution_count": 3,
   "id": "3f7c41e9-9f2d-4a6e-a188-00438b0c4dd6",
   "metadata": {},
   "outputs": [
    {
     "data": {
      "text/plain": [
       "0    0\n",
       "1    0\n",
       "2    2\n",
       "3    2\n",
       "4    4\n",
       "dtype: object"
      ]
     },
     "execution_count": 3,
     "metadata": {},
     "output_type": "execute_result"
    }
   ],
   "source": [
    "string_series.apply(lambda x: x[-1])"
   ]
  },
  {
   "cell_type": "code",
   "execution_count": 4,
   "id": "68cf1b46-51f6-4c14-adae-1e67485e08d3",
   "metadata": {},
   "outputs": [
    {
     "data": {
      "text/plain": [
       "0    0\n",
       "1    0\n",
       "2    2\n",
       "3    2\n",
       "4    4\n",
       "dtype: object"
      ]
     },
     "execution_count": 4,
     "metadata": {},
     "output_type": "execute_result"
    }
   ],
   "source": [
    "string_series.str[-1]"
   ]
  },
  {
   "cell_type": "code",
   "execution_count": 5,
   "id": "1e27eff3-e250-4339-a8a2-fdc1223afcdf",
   "metadata": {},
   "outputs": [],
   "source": [
    "def search(string, looking_for):\n",
    "    if looking_for in string:\n",
    "        return \"Found It!\"\n",
    "    return \"Nope\""
   ]
  },
  {
   "cell_type": "code",
   "execution_count": 6,
   "id": "f2e4d063-3be6-49b1-bda0-f59ef07513b9",
   "metadata": {},
   "outputs": [
    {
     "data": {
      "text/plain": [
       "0         Nope\n",
       "1         Nope\n",
       "2    Found It!\n",
       "3    Found It!\n",
       "4         Nope\n",
       "dtype: object"
      ]
     },
     "execution_count": 6,
     "metadata": {},
     "output_type": "execute_result"
    }
   ],
   "source": [
    "string_series.apply(search, args='2')"
   ]
  },
  {
   "cell_type": "code",
   "execution_count": null,
   "id": "0a7515b7-17e7-4535-ad03-87f62eee16d0",
   "metadata": {},
   "outputs": [],
   "source": []
  }
 ],
 "metadata": {
  "kernelspec": {
   "display_name": "Python 3 (ipykernel)",
   "language": "python",
   "name": "python3"
  },
  "language_info": {
   "codemirror_mode": {
    "name": "ipython",
    "version": 3
   },
   "file_extension": ".py",
   "mimetype": "text/x-python",
   "name": "python",
   "nbconvert_exporter": "python",
   "pygments_lexer": "ipython3",
   "version": "3.11.10"
  }
 },
 "nbformat": 4,
 "nbformat_minor": 5
}
