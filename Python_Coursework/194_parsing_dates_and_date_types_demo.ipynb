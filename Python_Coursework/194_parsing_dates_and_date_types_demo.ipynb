{
 "cells": [
  {
   "cell_type": "code",
   "execution_count": 1,
   "id": "5e1df4ce-89ba-48b3-8c65-a6ffc3349408",
   "metadata": {},
   "outputs": [],
   "source": [
    "import pandas as pd"
   ]
  },
  {
   "cell_type": "code",
   "execution_count": null,
   "id": "b2be7abf-440d-48ed-b8fc-aca7a628f5cd",
   "metadata": {},
   "outputs": [],
   "source": [
    "columns = [\"index\", \"Date\", \"Oil Price\", \"Date2\"]\n",
    "\n",
    "oil = pd.read_csv(\"../retail/oil.csv\",\n",
    "                  header=0,\n",
    "                  names=columns,\n",
    "                  # parse_dates=[\"Date\", \"Date2\"],\n",
    "                  # index_col=\"Date\",\n",
    "                 )\n",
    "\n",
    "oil.head()"
   ]
  },
  {
   "cell_type": "code",
   "execution_count": null,
   "id": "bf91ccc7-e6f9-4293-a2f4-c65ca20b9c5d",
   "metadata": {},
   "outputs": [],
   "source": [
    "columns = [\"index\", \"Date\", \"Oil Price\", \"Date2\"]\n",
    "\n",
    "oil = pd.read_csv(\"../retail/oil.csv\",\n",
    "                  header=0,\n",
    "                  names=columns,\n",
    "                  parse_dates=[\"Date\", \"Date2\"],\n",
    "                  # index_col=\"Date\",\n",
    "                 )\n",
    "\n",
    "oil.info()"
   ]
  },
  {
   "cell_type": "code",
   "execution_count": null,
   "id": "b8c57272-6b88-4c91-82a5-1fe441bb7fb7",
   "metadata": {},
   "outputs": [],
   "source": [
    "columns = [\"index\", \"Date\", \"Oil Price\", \"Date2\"]\n",
    "\n",
    "oil = pd.read_csv(\"../retail/oil.csv\",\n",
    "                  header=0,\n",
    "                  names=columns,\n",
    "                  parse_dates=[\"Date\", \"Date2\"],\n",
    "                  index_col=\"Date\",\n",
    "                 )\n",
    "\n",
    "oil.info()"
   ]
  },
  {
   "cell_type": "code",
   "execution_count": null,
   "id": "b83c80d2-7738-4b7a-b49d-f972ec22ec88",
   "metadata": {},
   "outputs": [],
   "source": [
    "columns = [\"index\", \"Date\", \"Oil Price\", \"Date2\"]\n",
    "\n",
    "oil = pd.read_csv(\"../retail/oil.csv\",\n",
    "                  header=0,\n",
    "                  names=columns,\n",
    "                  parse_dates=[\"Date\", \"Date2\"],\n",
    "                  infer_datetime_format=True,\n",
    "                  index_col=\"Date\",\n",
    "                 )\n",
    "\n",
    "oil.info()"
   ]
  },
  {
   "cell_type": "code",
   "execution_count": null,
   "id": "bca415e5-7a59-4c69-ad8d-e0660a9ba4c9",
   "metadata": {},
   "outputs": [],
   "source": [
    "columns = [\"index\", \"Date\", \"Oil Price\", \"Date2\"]\n",
    "\n",
    "oil = pd.read_csv(\"../retail/oil.csv\",\n",
    "                  header=0,\n",
    "                  names=columns,\n",
    "                  parse_dates=[\"Date\", \"Date2\"],\n",
    "                  infer_datetime_format=True,\n",
    "                  index_col=\"Date\",\n",
    "                  dtype={\"index\": \"Int16\"}\n",
    "                 )\n",
    "\n",
    "oil.info()"
   ]
  },
  {
   "cell_type": "code",
   "execution_count": null,
   "id": "7a8eb4f7-98a4-4fdd-8521-fb6106ca7948",
   "metadata": {},
   "outputs": [],
   "source": []
  }
 ],
 "metadata": {
  "kernelspec": {
   "display_name": "Python 3 (ipykernel)",
   "language": "python",
   "name": "python3"
  },
  "language_info": {
   "codemirror_mode": {
    "name": "ipython",
    "version": 3
   },
   "file_extension": ".py",
   "mimetype": "text/x-python",
   "name": "python",
   "nbconvert_exporter": "python",
   "pygments_lexer": "ipython3",
   "version": "3.11.10"
  }
 },
 "nbformat": 4,
 "nbformat_minor": 5
}
