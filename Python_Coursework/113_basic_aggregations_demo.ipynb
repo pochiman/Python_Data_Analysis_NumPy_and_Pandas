{
 "cells": [
  {
   "cell_type": "code",
   "execution_count": 1,
   "id": "1e2e0ee6-c30a-4e3d-9fc5-bd98db205a70",
   "metadata": {},
   "outputs": [],
   "source": [
    "import pandas as pd"
   ]
  },
  {
   "cell_type": "code",
   "execution_count": 8,
   "id": "6f461b87-7cba-422c-82d9-3eba60d26515",
   "metadata": {},
   "outputs": [],
   "source": [
    "premier_league = pd.read_excel('../project_data/premier_league_games_full.xlsx')"
   ]
  },
  {
   "cell_type": "code",
   "execution_count": 9,
   "id": "9c165691-759a-4e9e-8043-4981c58f490c",
   "metadata": {},
   "outputs": [
    {
     "data": {
      "text/html": [
       "<div>\n",
       "<style scoped>\n",
       "    .dataframe tbody tr th:only-of-type {\n",
       "        vertical-align: middle;\n",
       "    }\n",
       "\n",
       "    .dataframe tbody tr th {\n",
       "        vertical-align: top;\n",
       "    }\n",
       "\n",
       "    .dataframe thead th {\n",
       "        text-align: right;\n",
       "    }\n",
       "</style>\n",
       "<table border=\"1\" class=\"dataframe\">\n",
       "  <thead>\n",
       "    <tr style=\"text-align: right;\">\n",
       "      <th></th>\n",
       "      <th>id</th>\n",
       "      <th>league_name</th>\n",
       "      <th>season</th>\n",
       "      <th>HomeTeam</th>\n",
       "      <th>AwayTeam</th>\n",
       "      <th>HomeGoals</th>\n",
       "      <th>AwayGoals</th>\n",
       "    </tr>\n",
       "  </thead>\n",
       "  <tbody>\n",
       "    <tr>\n",
       "      <th>0</th>\n",
       "      <td>1729</td>\n",
       "      <td>England Premier League</td>\n",
       "      <td>2008/2009</td>\n",
       "      <td>Manchester United</td>\n",
       "      <td>Newcastle United</td>\n",
       "      <td>1</td>\n",
       "      <td>1</td>\n",
       "    </tr>\n",
       "    <tr>\n",
       "      <th>1</th>\n",
       "      <td>1730</td>\n",
       "      <td>England Premier League</td>\n",
       "      <td>2008/2009</td>\n",
       "      <td>Arsenal</td>\n",
       "      <td>West Bromwich Albion</td>\n",
       "      <td>1</td>\n",
       "      <td>0</td>\n",
       "    </tr>\n",
       "    <tr>\n",
       "      <th>2</th>\n",
       "      <td>1731</td>\n",
       "      <td>England Premier League</td>\n",
       "      <td>2008/2009</td>\n",
       "      <td>Sunderland</td>\n",
       "      <td>Liverpool</td>\n",
       "      <td>0</td>\n",
       "      <td>1</td>\n",
       "    </tr>\n",
       "    <tr>\n",
       "      <th>3</th>\n",
       "      <td>1732</td>\n",
       "      <td>England Premier League</td>\n",
       "      <td>2008/2009</td>\n",
       "      <td>West Ham United</td>\n",
       "      <td>Wigan Athletic</td>\n",
       "      <td>2</td>\n",
       "      <td>1</td>\n",
       "    </tr>\n",
       "    <tr>\n",
       "      <th>4</th>\n",
       "      <td>1733</td>\n",
       "      <td>England Premier League</td>\n",
       "      <td>2008/2009</td>\n",
       "      <td>Aston Villa</td>\n",
       "      <td>Manchester City</td>\n",
       "      <td>4</td>\n",
       "      <td>2</td>\n",
       "    </tr>\n",
       "  </tbody>\n",
       "</table>\n",
       "</div>"
      ],
      "text/plain": [
       "     id             league_name     season           HomeTeam  \\\n",
       "0  1729  England Premier League  2008/2009  Manchester United   \n",
       "1  1730  England Premier League  2008/2009            Arsenal   \n",
       "2  1731  England Premier League  2008/2009         Sunderland   \n",
       "3  1732  England Premier League  2008/2009    West Ham United   \n",
       "4  1733  England Premier League  2008/2009        Aston Villa   \n",
       "\n",
       "               AwayTeam  HomeGoals  AwayGoals  \n",
       "0      Newcastle United          1          1  \n",
       "1  West Bromwich Albion          1          0  \n",
       "2             Liverpool          0          1  \n",
       "3        Wigan Athletic          2          1  \n",
       "4       Manchester City          4          2  "
      ]
     },
     "execution_count": 9,
     "metadata": {},
     "output_type": "execute_result"
    }
   ],
   "source": [
    "premier_league.head()"
   ]
  },
  {
   "cell_type": "code",
   "execution_count": 10,
   "id": "fabbbaf6-5ed3-4785-b022-b72c499cf7fc",
   "metadata": {},
   "outputs": [
    {
     "data": {
      "text/plain": [
       "id                                                       9875440\n",
       "league_name    England Premier LeagueEngland Premier LeagueEn...\n",
       "season         2008/20092008/20092008/20092008/20092008/20092...\n",
       "HomeTeam       Manchester UnitedArsenalSunderlandWest Ham Uni...\n",
       "AwayTeam       Newcastle UnitedWest Bromwich AlbionLiverpoolW...\n",
       "HomeGoals                                                   4715\n",
       "AwayGoals                                                   3525\n",
       "dtype: object"
      ]
     },
     "execution_count": 10,
     "metadata": {},
     "output_type": "execute_result"
    }
   ],
   "source": [
    "premier_league.sum()"
   ]
  },
  {
   "cell_type": "code",
   "execution_count": 11,
   "id": "8939a4ff-3605-4b94-b0fd-ab3ee5ac1dec",
   "metadata": {},
   "outputs": [
    {
     "data": {
      "text/plain": [
       "HomeGoals    1.550987\n",
       "AwayGoals    1.159539\n",
       "dtype: float64"
      ]
     },
     "execution_count": 11,
     "metadata": {},
     "output_type": "execute_result"
    }
   ],
   "source": [
    "premier_league.loc[:, ['HomeGoals', 'AwayGoals']].mean()"
   ]
  },
  {
   "cell_type": "code",
   "execution_count": 12,
   "id": "328d3868-a7f2-494d-a82a-6ee7a4c11fbd",
   "metadata": {},
   "outputs": [
    {
     "data": {
      "text/plain": [
       "HomeGoals    1.311615\n",
       "AwayGoals    1.144629\n",
       "dtype: float64"
      ]
     },
     "execution_count": 12,
     "metadata": {},
     "output_type": "execute_result"
    }
   ],
   "source": [
    "premier_league.loc[:, ['HomeGoals', 'AwayGoals']].std()"
   ]
  },
  {
   "cell_type": "code",
   "execution_count": null,
   "id": "3913935b-f13d-4c31-8f46-8843ee030a41",
   "metadata": {},
   "outputs": [],
   "source": []
  }
 ],
 "metadata": {
  "kernelspec": {
   "display_name": "Python 3 (ipykernel)",
   "language": "python",
   "name": "python3"
  },
  "language_info": {
   "codemirror_mode": {
    "name": "ipython",
    "version": 3
   },
   "file_extension": ".py",
   "mimetype": "text/x-python",
   "name": "python",
   "nbconvert_exporter": "python",
   "pygments_lexer": "ipython3",
   "version": "3.11.10"
  }
 },
 "nbformat": 4,
 "nbformat_minor": 5
}
