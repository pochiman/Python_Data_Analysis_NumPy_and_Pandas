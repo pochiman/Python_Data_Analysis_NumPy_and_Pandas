{
 "cells": [
  {
   "cell_type": "code",
   "execution_count": 1,
   "id": "b92e79a1-1742-4f27-8394-723100e20cba",
   "metadata": {},
   "outputs": [
    {
     "name": "stderr",
     "output_type": "stream",
     "text": [
      "/var/folders/bm/h1t1wfk16y5gv2b9svjm7mzw0000gn/T/ipykernel_5078/2162656668.py:1: DeprecationWarning: \n",
      "Pyarrow will become a required dependency of pandas in the next major release of pandas (pandas 3.0),\n",
      "(to allow more performant data types, such as the Arrow string type, and better interoperability with other libraries)\n",
      "but was not found to be installed on your system.\n",
      "If this would cause problems for you,\n",
      "please provide us feedback at https://github.com/pandas-dev/pandas/issues/54466\n",
      "        \n",
      "  import pandas as pd\n"
     ]
    }
   ],
   "source": [
    "import pandas as pd\n",
    "import numpy as np"
   ]
  },
  {
   "cell_type": "code",
   "execution_count": 2,
   "id": "7939f4ef-b33b-4a89-a2b2-fd23476d2996",
   "metadata": {},
   "outputs": [
    {
     "data": {
      "text/plain": [
       "day 0    0\n",
       "day 1    1\n",
       "day 2    2\n",
       "day 3    3\n",
       "day 4    4\n",
       "dtype: int64"
      ]
     },
     "execution_count": 2,
     "metadata": {},
     "output_type": "execute_result"
    }
   ],
   "source": [
    "my_series = pd.Series(\n",
    "    [0, 1, 2, 3, 4], index=[\"day 0\", \"day 1\", \"day 2\", \"day 3\", \"day 4\"]\n",
    ")\n",
    "\n",
    "my_series"
   ]
  },
  {
   "cell_type": "code",
   "execution_count": 3,
   "id": "c40ec541-3778-4851-8b0c-c5cfc6e0b75b",
   "metadata": {},
   "outputs": [
    {
     "data": {
      "text/plain": [
       "day 1    1\n",
       "day 2    2\n",
       "day 3    3\n",
       "dtype: int64"
      ]
     },
     "execution_count": 3,
     "metadata": {},
     "output_type": "execute_result"
    }
   ],
   "source": [
    "my_series.loc[\"day 1\": \"day 3\"]"
   ]
  },
  {
   "cell_type": "code",
   "execution_count": 4,
   "id": "dadb4908-b27b-456d-a675-574dc6c11b64",
   "metadata": {},
   "outputs": [],
   "source": [
    "my_series.index = [0, 2, 3, 100, 5]"
   ]
  },
  {
   "cell_type": "code",
   "execution_count": 5,
   "id": "4020ed4f-fd76-4884-8164-5be43ca06ba8",
   "metadata": {},
   "outputs": [
    {
     "data": {
      "text/plain": [
       "0      0\n",
       "2      1\n",
       "3      2\n",
       "100    3\n",
       "5      4\n",
       "dtype: int64"
      ]
     },
     "execution_count": 5,
     "metadata": {},
     "output_type": "execute_result"
    }
   ],
   "source": [
    "my_series"
   ]
  },
  {
   "cell_type": "code",
   "execution_count": 6,
   "id": "8b793526-a4f5-4ce5-884c-b3b101d736fd",
   "metadata": {},
   "outputs": [
    {
     "data": {
      "text/plain": [
       "0      0\n",
       "2      1\n",
       "100    3\n",
       "5      4\n",
       "dtype: int64"
      ]
     },
     "execution_count": 6,
     "metadata": {},
     "output_type": "execute_result"
    }
   ],
   "source": [
    "my_series[my_series != 2]"
   ]
  },
  {
   "cell_type": "code",
   "execution_count": 7,
   "id": "580b02ed-c8a8-4462-8bc8-4e5f666a2df9",
   "metadata": {},
   "outputs": [
    {
     "data": {
      "text/plain": [
       "0    0\n",
       "1    1\n",
       "2    2\n",
       "3    3\n",
       "dtype: int64"
      ]
     },
     "execution_count": 7,
     "metadata": {},
     "output_type": "execute_result"
    }
   ],
   "source": [
    "my_series.reset_index(drop=True).loc[:3]"
   ]
  },
  {
   "cell_type": "code",
   "execution_count": null,
   "id": "e04c2f19-256c-4aa9-bc9b-61a5ac068e21",
   "metadata": {},
   "outputs": [],
   "source": []
  }
 ],
 "metadata": {
  "kernelspec": {
   "display_name": "Python 3 (ipykernel)",
   "language": "python",
   "name": "python3"
  },
  "language_info": {
   "codemirror_mode": {
    "name": "ipython",
    "version": 3
   },
   "file_extension": ".py",
   "mimetype": "text/x-python",
   "name": "python",
   "nbconvert_exporter": "python",
   "pygments_lexer": "ipython3",
   "version": "3.11.10"
  }
 },
 "nbformat": 4,
 "nbformat_minor": 5
}
