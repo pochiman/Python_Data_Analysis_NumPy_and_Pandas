{
 "cells": [
  {
   "cell_type": "code",
   "execution_count": 1,
   "id": "eafac795-e6e0-4bb3-9371-16b9b3b1d959",
   "metadata": {},
   "outputs": [],
   "source": [
    "import numpy as np"
   ]
  },
  {
   "cell_type": "code",
   "execution_count": 2,
   "id": "bb4d4f2e-0912-49c3-ab0e-784521510262",
   "metadata": {},
   "outputs": [
    {
     "data": {
      "text/plain": [
       "array([ 0,  1,  2,  3,  4,  5,  6,  7,  8,  9, 10, 11, 12, 13, 14, 15, 16,\n",
       "       17, 18, 19])"
      ]
     },
     "execution_count": 2,
     "metadata": {},
     "output_type": "execute_result"
    }
   ],
   "source": [
    "my_array = np.arange(20)\n",
    "\n",
    "my_array"
   ]
  },
  {
   "cell_type": "code",
   "execution_count": 3,
   "id": "cc1dd34e-2c21-407b-9de6-c1278902473f",
   "metadata": {},
   "outputs": [
    {
     "data": {
      "text/plain": [
       "array([ True, False,  True, False,  True, False,  True, False,  True,\n",
       "       False,  True, False,  True, False,  True, False,  True, False,\n",
       "        True, False])"
      ]
     },
     "execution_count": 3,
     "metadata": {},
     "output_type": "execute_result"
    }
   ],
   "source": [
    "my_array % 2 == 0"
   ]
  },
  {
   "cell_type": "code",
   "execution_count": 4,
   "id": "9d24a792-3915-437b-b5cf-d7e1a776b165",
   "metadata": {},
   "outputs": [
    {
     "data": {
      "text/plain": [
       "array([ 0,  2,  4,  6,  8, 10, 12, 14, 16, 18])"
      ]
     },
     "execution_count": 4,
     "metadata": {},
     "output_type": "execute_result"
    }
   ],
   "source": [
    "my_array[my_array % 2 == 0]"
   ]
  },
  {
   "cell_type": "code",
   "execution_count": 5,
   "id": "b62795b1-cec2-4069-a001-395557c8c9d2",
   "metadata": {},
   "outputs": [
    {
     "data": {
      "text/plain": [
       "array(['even', 'odd', 'even', 'odd', 'even', 'odd', 'even', 'odd', 'even',\n",
       "       'odd', 'even', 'odd', 'even', 'odd', 'even', 'odd', 'even', 'odd',\n",
       "       'even', 'odd'], dtype='<U4')"
      ]
     },
     "execution_count": 5,
     "metadata": {},
     "output_type": "execute_result"
    }
   ],
   "source": [
    "even_odd = np.array(['even', 'odd'] * 10)\n",
    "\n",
    "even_odd"
   ]
  },
  {
   "cell_type": "code",
   "execution_count": 6,
   "id": "01ae4a38-8688-4371-a377-224d85d9f8e1",
   "metadata": {},
   "outputs": [
    {
     "data": {
      "text/plain": [
       "array([ True, False,  True, False,  True, False,  True, False,  True,\n",
       "       False,  True, False,  True, False,  True, False,  True, False,\n",
       "        True, False])"
      ]
     },
     "execution_count": 6,
     "metadata": {},
     "output_type": "execute_result"
    }
   ],
   "source": [
    "even_odd != 'odd'"
   ]
  },
  {
   "cell_type": "code",
   "execution_count": 7,
   "id": "2c89df78-2507-4b8f-a1f4-d6a730dc7c4a",
   "metadata": {},
   "outputs": [
    {
     "data": {
      "text/plain": [
       "array(['even', 'even', 'even', 'even', 'even', 'even', 'even', 'even',\n",
       "       'even', 'even'], dtype='<U4')"
      ]
     },
     "execution_count": 7,
     "metadata": {},
     "output_type": "execute_result"
    }
   ],
   "source": [
    "even_odd[even_odd != 'odd']"
   ]
  },
  {
   "cell_type": "code",
   "execution_count": 8,
   "id": "3f3617f8-a156-417e-ba81-a9b5be7aaaa3",
   "metadata": {},
   "outputs": [],
   "source": [
    "my_array[even_odd != 'odd'] = 0"
   ]
  },
  {
   "cell_type": "code",
   "execution_count": 9,
   "id": "3157d17f-8fd4-4363-92ec-2fa057ae7237",
   "metadata": {},
   "outputs": [
    {
     "data": {
      "text/plain": [
       "array([ 0,  1,  0,  3,  0,  5,  0,  7,  0,  9,  0, 11,  0, 13,  0, 15,  0,\n",
       "       17,  0, 19])"
      ]
     },
     "execution_count": 9,
     "metadata": {},
     "output_type": "execute_result"
    }
   ],
   "source": [
    "my_array"
   ]
  },
  {
   "cell_type": "code",
   "execution_count": 10,
   "id": "079e05b4-ea05-4662-ba58-52a13d010974",
   "metadata": {},
   "outputs": [
    {
     "data": {
      "text/plain": [
       "array([ 0,  1,  2,  3,  0,  5,  0,  7,  0,  9,  0, 11,  0, 13,  0, 15,  0,\n",
       "       17,  0, 19])"
      ]
     },
     "execution_count": 10,
     "metadata": {},
     "output_type": "execute_result"
    }
   ],
   "source": [
    "my_array[2] = 2\n",
    "\n",
    "my_array"
   ]
  },
  {
   "cell_type": "code",
   "execution_count": 11,
   "id": "b4f649bd-b839-4427-b0fc-38e487b75ba9",
   "metadata": {},
   "outputs": [
    {
     "data": {
      "text/plain": [
       "array(['even', 'odd', 'even', 'odd', 'even', 'odd', 'even', 'odd', 'even',\n",
       "       'odd', 'even', 'odd', 'even', 'odd', 'even', 'odd', 'even', 'odd',\n",
       "       'even', 'odd'], dtype='<U4')"
      ]
     },
     "execution_count": 11,
     "metadata": {},
     "output_type": "execute_result"
    }
   ],
   "source": [
    "mask = (even_odd != 'odd') | (even_odd != 'even')\n",
    "\n",
    "even_odd[mask]"
   ]
  },
  {
   "cell_type": "code",
   "execution_count": 12,
   "id": "72c63a6e-002a-4e70-86fd-a695a6acef65",
   "metadata": {},
   "outputs": [
    {
     "data": {
      "text/plain": [
       "array([], dtype='<U4')"
      ]
     },
     "execution_count": 12,
     "metadata": {},
     "output_type": "execute_result"
    }
   ],
   "source": [
    "mask = (even_odd != 'odd') & (even_odd != 'even')\n",
    "\n",
    "even_odd[mask]"
   ]
  },
  {
   "cell_type": "code",
   "execution_count": null,
   "id": "a3c01da5-c3cd-49d5-b35f-971eae6e0ec4",
   "metadata": {},
   "outputs": [],
   "source": []
  }
 ],
 "metadata": {
  "kernelspec": {
   "display_name": "Python 3 (ipykernel)",
   "language": "python",
   "name": "python3"
  },
  "language_info": {
   "codemirror_mode": {
    "name": "ipython",
    "version": 3
   },
   "file_extension": ".py",
   "mimetype": "text/x-python",
   "name": "python",
   "nbconvert_exporter": "python",
   "pygments_lexer": "ipython3",
   "version": "3.11.10"
  }
 },
 "nbformat": 4,
 "nbformat_minor": 5
}
