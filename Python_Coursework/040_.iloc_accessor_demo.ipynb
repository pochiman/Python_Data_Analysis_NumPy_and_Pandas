{
 "cells": [
  {
   "cell_type": "code",
   "execution_count": 1,
   "id": "78803777-177a-464c-be42-4704b0626a8c",
   "metadata": {},
   "outputs": [
    {
     "name": "stderr",
     "output_type": "stream",
     "text": [
      "/var/folders/bm/h1t1wfk16y5gv2b9svjm7mzw0000gn/T/ipykernel_5061/2162656668.py:1: DeprecationWarning: \n",
      "Pyarrow will become a required dependency of pandas in the next major release of pandas (pandas 3.0),\n",
      "(to allow more performant data types, such as the Arrow string type, and better interoperability with other libraries)\n",
      "but was not found to be installed on your system.\n",
      "If this would cause problems for you,\n",
      "please provide us feedback at https://github.com/pandas-dev/pandas/issues/54466\n",
      "        \n",
      "  import pandas as pd\n"
     ]
    }
   ],
   "source": [
    "import pandas as pd\n",
    "import numpy as np"
   ]
  },
  {
   "cell_type": "code",
   "execution_count": 2,
   "id": "8ebcb839-c34d-4bc2-a2d3-a4069dd4c056",
   "metadata": {},
   "outputs": [
    {
     "data": {
      "text/plain": [
       "day 0    0\n",
       "day 1    1\n",
       "day 2    2\n",
       "day 3    3\n",
       "day 4    4\n",
       "dtype: int64"
      ]
     },
     "execution_count": 2,
     "metadata": {},
     "output_type": "execute_result"
    }
   ],
   "source": [
    "my_series = pd.Series(\n",
    "    [0, 1, 2, 3, 4], index=[\"day 0\", \"day 1\", \"day 2\", \"day 3\", \"day 4\"]\n",
    ")\n",
    "\n",
    "my_series"
   ]
  },
  {
   "cell_type": "code",
   "execution_count": 3,
   "id": "5df70a78-108f-4771-8fdb-af40942b7ce4",
   "metadata": {},
   "outputs": [
    {
     "data": {
      "text/plain": [
       "day 1    1\n",
       "day 3    3\n",
       "day 4    4\n",
       "dtype: int64"
      ]
     },
     "execution_count": 3,
     "metadata": {},
     "output_type": "execute_result"
    }
   ],
   "source": [
    "my_series.iloc[[1, 3, 4]]"
   ]
  },
  {
   "cell_type": "code",
   "execution_count": 5,
   "id": "f04a4baa-fdad-4b55-aedc-f775d3e4108d",
   "metadata": {},
   "outputs": [
    {
     "data": {
      "text/plain": [
       "4"
      ]
     },
     "execution_count": 5,
     "metadata": {},
     "output_type": "execute_result"
    }
   ],
   "source": [
    "my_series.iloc[4]"
   ]
  },
  {
   "cell_type": "code",
   "execution_count": null,
   "id": "e2bb2c9a-3780-4d46-b683-85edc2a182fe",
   "metadata": {},
   "outputs": [],
   "source": []
  }
 ],
 "metadata": {
  "kernelspec": {
   "display_name": "Python 3 (ipykernel)",
   "language": "python",
   "name": "python3"
  },
  "language_info": {
   "codemirror_mode": {
    "name": "ipython",
    "version": 3
   },
   "file_extension": ".py",
   "mimetype": "text/x-python",
   "name": "python",
   "nbconvert_exporter": "python",
   "pygments_lexer": "ipython3",
   "version": "3.11.10"
  }
 },
 "nbformat": 4,
 "nbformat_minor": 5
}
