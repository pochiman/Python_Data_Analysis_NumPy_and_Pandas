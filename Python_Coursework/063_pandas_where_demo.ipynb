{
 "cells": [
  {
   "cell_type": "code",
   "execution_count": 1,
   "id": "15b1c97d-6864-40bf-b1eb-50a3edea7f4c",
   "metadata": {},
   "outputs": [],
   "source": [
    "import pandas as pd\n",
    "import numpy as np"
   ]
  },
  {
   "cell_type": "code",
   "execution_count": 2,
   "id": "d3ecc23f-05c8-4992-a54f-ab8b89c27d71",
   "metadata": {},
   "outputs": [
    {
     "data": {
      "text/plain": [
       "0    day 0\n",
       "1    day 0\n",
       "2    day 2\n",
       "3    day 2\n",
       "4    day 4\n",
       "dtype: object"
      ]
     },
     "execution_count": 2,
     "metadata": {},
     "output_type": "execute_result"
    }
   ],
   "source": [
    "string_series = pd.Series(['day 0', 'day 0', 'day 2', 'day 2', 'day 4'])\n",
    "\n",
    "string_series"
   ]
  },
  {
   "cell_type": "code",
   "execution_count": 3,
   "id": "62d9de47-8fbf-4678-bf3e-18a6174a41b8",
   "metadata": {},
   "outputs": [
    {
     "data": {
      "text/plain": [
       "0    0\n",
       "1    0\n",
       "2    2\n",
       "3    2\n",
       "4    4\n",
       "dtype: object"
      ]
     },
     "execution_count": 3,
     "metadata": {},
     "output_type": "execute_result"
    }
   ],
   "source": [
    "string_series.apply(lambda x: x[-1])"
   ]
  },
  {
   "cell_type": "code",
   "execution_count": 4,
   "id": "8394cc15-1c78-4152-b154-f962ae8f2dd7",
   "metadata": {},
   "outputs": [
    {
     "data": {
      "text/plain": [
       "0    0\n",
       "1    0\n",
       "2    2\n",
       "3    2\n",
       "4    4\n",
       "dtype: object"
      ]
     },
     "execution_count": 4,
     "metadata": {},
     "output_type": "execute_result"
    }
   ],
   "source": [
    "string_series.str[-1]"
   ]
  },
  {
   "cell_type": "code",
   "execution_count": 5,
   "id": "ed14c6f3-d0ea-4e6f-9866-9e37ce637c52",
   "metadata": {},
   "outputs": [],
   "source": [
    "def search(string, looking_for):\n",
    "    if looking_for in string:\n",
    "        return \"Found It!\"\n",
    "    return \"Nope\""
   ]
  },
  {
   "cell_type": "code",
   "execution_count": 6,
   "id": "ac59cc47-83fd-4311-ae27-341caa80a8f3",
   "metadata": {},
   "outputs": [
    {
     "data": {
      "text/plain": [
       "0         Nope\n",
       "1         Nope\n",
       "2    Found It!\n",
       "3    Found It!\n",
       "4         Nope\n",
       "dtype: object"
      ]
     },
     "execution_count": 6,
     "metadata": {},
     "output_type": "execute_result"
    }
   ],
   "source": [
    "string_series.apply(search, args='2')"
   ]
  },
  {
   "cell_type": "code",
   "execution_count": 7,
   "id": "282da221-6ad6-4cf7-98f1-44a2b1098b27",
   "metadata": {},
   "outputs": [
    {
     "data": {
      "text/plain": [
       "0    Nope!\n",
       "1    Nope!\n",
       "2    day 2\n",
       "3    day 2\n",
       "4    Nope!\n",
       "dtype: object"
      ]
     },
     "execution_count": 7,
     "metadata": {},
     "output_type": "execute_result"
    }
   ],
   "source": [
    "string_series.where(string_series.str.contains(\"2\"), \"Nope!\")"
   ]
  },
  {
   "cell_type": "code",
   "execution_count": 8,
   "id": "68e8e107-ce2f-4eb9-bb26-7966169c0fdf",
   "metadata": {},
   "outputs": [
    {
     "data": {
      "text/plain": [
       "0        Nope!\n",
       "1        Nope!\n",
       "2    Found it!\n",
       "3    Found it!\n",
       "4        Nope!\n",
       "dtype: object"
      ]
     },
     "execution_count": 8,
     "metadata": {},
     "output_type": "execute_result"
    }
   ],
   "source": [
    "string_series.where(\n",
    "    string_series.str.contains(\"2\"), \"Nope!\").where(\n",
    "    ~string_series.str.contains(\"2\"), \"Found it!\")"
   ]
  },
  {
   "cell_type": "code",
   "execution_count": 10,
   "id": "84e2d782-a5ce-4a2f-b91c-a249c66efe96",
   "metadata": {},
   "outputs": [
    {
     "data": {
      "text/plain": [
       "array(['Nope!', 'Nope!', 'Found it!', 'Found it!', 'Nope!'], dtype='<U9')"
      ]
     },
     "execution_count": 10,
     "metadata": {},
     "output_type": "execute_result"
    }
   ],
   "source": [
    "np.where(string_series.str.contains(\"2\"), \"Found it!\", \"Nope!\")"
   ]
  },
  {
   "cell_type": "code",
   "execution_count": 11,
   "id": "9aabe09a-0813-4d25-8340-1d4712c9767e",
   "metadata": {},
   "outputs": [
    {
     "data": {
      "text/plain": [
       "0        Nope!\n",
       "1        Nope!\n",
       "2    Found it!\n",
       "3    Found it!\n",
       "4        Nope!\n",
       "dtype: object"
      ]
     },
     "execution_count": 11,
     "metadata": {},
     "output_type": "execute_result"
    }
   ],
   "source": [
    "pd.Series((np.where(string_series.str.contains(\"2\"), \"Found it!\", \"Nope!\")))"
   ]
  },
  {
   "cell_type": "code",
   "execution_count": null,
   "id": "4188c271-0b30-4e21-839e-3363a57ba06c",
   "metadata": {},
   "outputs": [],
   "source": []
  }
 ],
 "metadata": {
  "kernelspec": {
   "display_name": "Python 3 (ipykernel)",
   "language": "python",
   "name": "python3"
  },
  "language_info": {
   "codemirror_mode": {
    "name": "ipython",
    "version": 3
   },
   "file_extension": ".py",
   "mimetype": "text/x-python",
   "name": "python",
   "nbconvert_exporter": "python",
   "pygments_lexer": "ipython3",
   "version": "3.11.10"
  }
 },
 "nbformat": 4,
 "nbformat_minor": 5
}
