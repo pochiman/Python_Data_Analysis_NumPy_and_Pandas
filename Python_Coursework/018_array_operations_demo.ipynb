{
 "cells": [
  {
   "cell_type": "code",
   "execution_count": 1,
   "id": "0731f1cd-dbd9-4747-985f-872f656edbd5",
   "metadata": {},
   "outputs": [
    {
     "data": {
      "text/plain": [
       "array([39, 39, 93, 86, 48, 46, 48, 30, 11, 57])"
      ]
     },
     "execution_count": 1,
     "metadata": {},
     "output_type": "execute_result"
    }
   ],
   "source": [
    "import numpy as np\n",
    "\n",
    "rng = np.random.default_rng(616)\n",
    "\n",
    "inventory = rng.integers(0, 100, 10)\n",
    "\n",
    "inventory"
   ]
  },
  {
   "cell_type": "code",
   "execution_count": 2,
   "id": "8f939203-6bb7-46c3-8527-591de0c25740",
   "metadata": {},
   "outputs": [
    {
     "data": {
      "text/plain": [
       "array([ 15,  15,  69,  62,  24,  22,  24,   6, -13,  33])"
      ]
     },
     "execution_count": 2,
     "metadata": {},
     "output_type": "execute_result"
    }
   ],
   "source": [
    "inventory - 24"
   ]
  },
  {
   "cell_type": "code",
   "execution_count": 10,
   "id": "c486556a-ebb6-41c8-9c5d-adff1aa750cf",
   "metadata": {},
   "outputs": [
    {
     "data": {
      "text/plain": [
       "dtype('float64')"
      ]
     },
     "execution_count": 10,
     "metadata": {},
     "output_type": "execute_result"
    }
   ],
   "source": [
    "(inventory / 2).dtype"
   ]
  },
  {
   "cell_type": "code",
   "execution_count": 16,
   "id": "0284ce86-5a52-4f6b-af06-c726b80b09ff",
   "metadata": {},
   "outputs": [
    {
     "data": {
      "text/plain": [
       "array([6.43244661, 2.60207067, 7.19744365, 6.92208678, 3.87672115,\n",
       "       0.78089194, 2.66579834, 8.87031369, 0.23196529, 5.23281865,\n",
       "       6.29510999])"
      ]
     },
     "execution_count": 16,
     "metadata": {},
     "output_type": "execute_result"
    }
   ],
   "source": [
    "price = (rng.random(11) * 10)\n",
    "\n",
    "price"
   ]
  },
  {
   "cell_type": "code",
   "execution_count": 23,
   "id": "f4a4e506-77b0-459d-bbaf-cb4e3d69c6d7",
   "metadata": {},
   "outputs": [
    {
     "data": {
      "text/plain": [
       "array([8.11, 2.09, 5.61, 6.63, 8.26, 9.11, 1.5 , 9.06, 4.9 , 0.04])"
      ]
     },
     "execution_count": 23,
     "metadata": {},
     "output_type": "execute_result"
    }
   ],
   "source": [
    "price = (rng.random(10) * 10).round(2)\n",
    "\n",
    "price"
   ]
  },
  {
   "cell_type": "code",
   "execution_count": 24,
   "id": "4a453c30-408f-4676-8d5c-e14f17b4ad0a",
   "metadata": {},
   "outputs": [
    {
     "data": {
      "text/plain": [
       "2705.23"
      ]
     },
     "execution_count": 24,
     "metadata": {},
     "output_type": "execute_result"
    }
   ],
   "source": [
    "(price * inventory).sum()"
   ]
  },
  {
   "cell_type": "code",
   "execution_count": 25,
   "id": "5d96703d-114a-43d1-89a5-a000982e1cc6",
   "metadata": {},
   "outputs": [],
   "source": [
    "inventory_list = list(inventory)"
   ]
  },
  {
   "cell_type": "code",
   "execution_count": 26,
   "id": "14fceeb4-7be0-40e4-8bed-4a8d259c5095",
   "metadata": {},
   "outputs": [
    {
     "data": {
      "text/plain": [
       "[39, 39, 93, 86, 48, 46, 48, 30, 11, 57]"
      ]
     },
     "execution_count": 26,
     "metadata": {},
     "output_type": "execute_result"
    }
   ],
   "source": [
    "inventory_list"
   ]
  },
  {
   "cell_type": "code",
   "execution_count": 27,
   "id": "8077f799-f526-4341-be2b-b6e7799f1d33",
   "metadata": {},
   "outputs": [
    {
     "ename": "TypeError",
     "evalue": "can only concatenate list (not \"int\") to list",
     "output_type": "error",
     "traceback": [
      "\u001b[0;31m---------------------------------------------------------------------------\u001b[0m",
      "\u001b[0;31mTypeError\u001b[0m                                 Traceback (most recent call last)",
      "Cell \u001b[0;32mIn[27], line 1\u001b[0m\n\u001b[0;32m----> 1\u001b[0m \u001b[43minventory_list\u001b[49m\u001b[43m \u001b[49m\u001b[38;5;241;43m+\u001b[39;49m\u001b[43m \u001b[49m\u001b[38;5;241;43m2\u001b[39;49m\n",
      "\u001b[0;31mTypeError\u001b[0m: can only concatenate list (not \"int\") to list"
     ]
    }
   ],
   "source": [
    "inventory_list + 2"
   ]
  },
  {
   "cell_type": "code",
   "execution_count": 28,
   "id": "2ca33b5d-82d4-4c89-b4b8-caeb16590aeb",
   "metadata": {},
   "outputs": [
    {
     "data": {
      "text/plain": [
       "[41, 41, 95, 88, 50, 48, 50, 32, 13, 59]"
      ]
     },
     "execution_count": 28,
     "metadata": {},
     "output_type": "execute_result"
    }
   ],
   "source": [
    "new_inventory = []\n",
    "\n",
    "for x in inventory_list:\n",
    "    new_inventory.append(x + 2)\n",
    "\n",
    "new_inventory"
   ]
  },
  {
   "cell_type": "code",
   "execution_count": 29,
   "id": "b3e425cb-b61b-40b2-8d68-dfdb9d9e339f",
   "metadata": {},
   "outputs": [
    {
     "data": {
      "text/plain": [
       "[41, 41, 95, 88, 50, 48, 50, 32, 13, 59]"
      ]
     },
     "execution_count": 29,
     "metadata": {},
     "output_type": "execute_result"
    }
   ],
   "source": [
    "[x + 2 for x in inventory_list]"
   ]
  },
  {
   "cell_type": "code",
   "execution_count": 30,
   "id": "7ae38301-331b-4417-8378-6ea887543404",
   "metadata": {},
   "outputs": [
    {
     "data": {
      "text/plain": [
       "[316.28999999999996,\n",
       " 81.50999999999999,\n",
       " 521.73,\n",
       " 570.18,\n",
       " 396.48,\n",
       " 419.05999999999995,\n",
       " 72.0,\n",
       " 271.8,\n",
       " 53.900000000000006,\n",
       " 2.2800000000000002]"
      ]
     },
     "execution_count": 30,
     "metadata": {},
     "output_type": "execute_result"
    }
   ],
   "source": [
    "[x * y for x, y in zip(inventory_list, price)]"
   ]
  },
  {
   "cell_type": "code",
   "execution_count": null,
   "id": "98f111f5-309f-4ed2-ab48-73f99561a537",
   "metadata": {},
   "outputs": [],
   "source": []
  }
 ],
 "metadata": {
  "kernelspec": {
   "display_name": "Python 3 (ipykernel)",
   "language": "python",
   "name": "python3"
  },
  "language_info": {
   "codemirror_mode": {
    "name": "ipython",
    "version": 3
   },
   "file_extension": ".py",
   "mimetype": "text/x-python",
   "name": "python",
   "nbconvert_exporter": "python",
   "pygments_lexer": "ipython3",
   "version": "3.11.10"
  }
 },
 "nbformat": 4,
 "nbformat_minor": 5
}
