{
 "cells": [
  {
   "cell_type": "code",
   "execution_count": 1,
   "id": "46818b89-27f8-4f47-96bb-70b9d5997a93",
   "metadata": {},
   "outputs": [],
   "source": [
    "import numpy as np"
   ]
  },
  {
   "cell_type": "code",
   "execution_count": 2,
   "id": "f131dd1a-c69a-48db-a33e-3e052749d9f7",
   "metadata": {},
   "outputs": [],
   "source": [
    "integer_array = np.arange(12)"
   ]
  },
  {
   "cell_type": "code",
   "execution_count": 3,
   "id": "a3f36e5b-27e4-4421-a714-43573958b9d7",
   "metadata": {},
   "outputs": [
    {
     "data": {
      "text/plain": [
       "array([ 0,  1,  2,  3,  4,  5,  6,  7,  8,  9, 10, 11])"
      ]
     },
     "execution_count": 3,
     "metadata": {},
     "output_type": "execute_result"
    }
   ],
   "source": [
    "integer_array"
   ]
  },
  {
   "cell_type": "code",
   "execution_count": 4,
   "id": "a7b6e080-9677-4517-b366-e949428c112e",
   "metadata": {},
   "outputs": [
    {
     "data": {
      "text/plain": [
       "2"
      ]
     },
     "execution_count": 4,
     "metadata": {},
     "output_type": "execute_result"
    }
   ],
   "source": [
    "integer_array[2]"
   ]
  },
  {
   "cell_type": "code",
   "execution_count": 6,
   "id": "d1251a89-f6a1-4a1a-b669-fc3bf316021e",
   "metadata": {},
   "outputs": [
    {
     "data": {
      "text/plain": [
       "10"
      ]
     },
     "execution_count": 6,
     "metadata": {},
     "output_type": "execute_result"
    }
   ],
   "source": [
    "integer_array[-2]"
   ]
  },
  {
   "cell_type": "code",
   "execution_count": 7,
   "id": "00a3131c-a384-47a4-9e17-ae5db1e8091d",
   "metadata": {},
   "outputs": [
    {
     "data": {
      "text/plain": [
       "array([0, 1, 2, 3, 4])"
      ]
     },
     "execution_count": 7,
     "metadata": {},
     "output_type": "execute_result"
    }
   ],
   "source": [
    "integer_array[:5]"
   ]
  },
  {
   "cell_type": "code",
   "execution_count": 8,
   "id": "186a9b39-6993-4304-862d-282f3d7840aa",
   "metadata": {},
   "outputs": [
    {
     "data": {
      "text/plain": [
       "array([ 5,  6,  7,  8,  9, 10, 11])"
      ]
     },
     "execution_count": 8,
     "metadata": {},
     "output_type": "execute_result"
    }
   ],
   "source": [
    "integer_array[5:]"
   ]
  },
  {
   "cell_type": "code",
   "execution_count": 9,
   "id": "02b3c5fd-95bc-4da8-b07d-273ae373528a",
   "metadata": {},
   "outputs": [
    {
     "data": {
      "text/plain": [
       "array([ 0,  1,  2,  3,  4,  5,  6,  7,  8,  9, 10, 11])"
      ]
     },
     "execution_count": 9,
     "metadata": {},
     "output_type": "execute_result"
    }
   ],
   "source": [
    "integer_array[:]"
   ]
  },
  {
   "cell_type": "code",
   "execution_count": 10,
   "id": "38aa3eda-13c0-480a-ad70-ba2c0f7a4b6f",
   "metadata": {},
   "outputs": [
    {
     "data": {
      "text/plain": [
       "array([ 0,  2,  4,  6,  8, 10])"
      ]
     },
     "execution_count": 10,
     "metadata": {},
     "output_type": "execute_result"
    }
   ],
   "source": [
    "integer_array[::2]"
   ]
  },
  {
   "cell_type": "code",
   "execution_count": 11,
   "id": "05b0a5f7-01a5-438d-81e5-2bd2fff264db",
   "metadata": {},
   "outputs": [
    {
     "data": {
      "text/plain": [
       "array([[ 0,  1,  2,  3],\n",
       "       [ 4,  5,  6,  7],\n",
       "       [ 8,  9, 10, 11]])"
      ]
     },
     "execution_count": 11,
     "metadata": {},
     "output_type": "execute_result"
    }
   ],
   "source": [
    "new_array = integer_array.reshape(3, 4)\n",
    "\n",
    "new_array"
   ]
  },
  {
   "cell_type": "code",
   "execution_count": 12,
   "id": "27226e96-0575-475d-8ba7-254317afe6d9",
   "metadata": {},
   "outputs": [
    {
     "data": {
      "text/plain": [
       "array([[ 0,  1,  2,  3],\n",
       "       [ 4,  5,  6,  7],\n",
       "       [ 8,  9, 10, 11]])"
      ]
     },
     "execution_count": 12,
     "metadata": {},
     "output_type": "execute_result"
    }
   ],
   "source": [
    "new_array[:, :]"
   ]
  },
  {
   "cell_type": "code",
   "execution_count": 13,
   "id": "b36520df-f1cb-46d2-99bb-408c9ca8b99d",
   "metadata": {},
   "outputs": [
    {
     "data": {
      "text/plain": [
       "array([[ 4,  5,  6,  7],\n",
       "       [ 8,  9, 10, 11]])"
      ]
     },
     "execution_count": 13,
     "metadata": {},
     "output_type": "execute_result"
    }
   ],
   "source": [
    "new_array[1:, :]"
   ]
  },
  {
   "cell_type": "code",
   "execution_count": 14,
   "id": "41e986bc-53e0-46c9-a5bd-2828f61ce082",
   "metadata": {},
   "outputs": [
    {
     "data": {
      "text/plain": [
       "array([ 3,  7, 11])"
      ]
     },
     "execution_count": 14,
     "metadata": {},
     "output_type": "execute_result"
    }
   ],
   "source": [
    "new_array[:, 3]"
   ]
  },
  {
   "cell_type": "code",
   "execution_count": 15,
   "id": "8a84ec17-e704-43d9-94cc-db118cc07b23",
   "metadata": {},
   "outputs": [
    {
     "data": {
      "text/plain": [
       "array([[ 1,  2],\n",
       "       [ 5,  6],\n",
       "       [ 9, 10]])"
      ]
     },
     "execution_count": 15,
     "metadata": {},
     "output_type": "execute_result"
    }
   ],
   "source": [
    "new_array[:, 1:3]"
   ]
  },
  {
   "cell_type": "code",
   "execution_count": 16,
   "id": "156baac5-2e9b-41b4-9abe-9f1c8b4880e2",
   "metadata": {},
   "outputs": [
    {
     "data": {
      "text/plain": [
       "array([[ 1,  2,  3],\n",
       "       [ 5,  6,  7],\n",
       "       [ 9, 10, 11]])"
      ]
     },
     "execution_count": 16,
     "metadata": {},
     "output_type": "execute_result"
    }
   ],
   "source": [
    "new_array[:, 1:]"
   ]
  },
  {
   "cell_type": "code",
   "execution_count": 17,
   "id": "2b2dd55d-2cd6-44b3-9632-07f3e4e0edb3",
   "metadata": {},
   "outputs": [
    {
     "data": {
      "text/plain": [
       "9"
      ]
     },
     "execution_count": 17,
     "metadata": {},
     "output_type": "execute_result"
    }
   ],
   "source": [
    "new_array[2, 1]"
   ]
  },
  {
   "cell_type": "code",
   "execution_count": null,
   "id": "ea5c1744-364e-4bba-9125-5cec2d845829",
   "metadata": {},
   "outputs": [],
   "source": []
  }
 ],
 "metadata": {
  "kernelspec": {
   "display_name": "Python 3 (ipykernel)",
   "language": "python",
   "name": "python3"
  },
  "language_info": {
   "codemirror_mode": {
    "name": "ipython",
    "version": 3
   },
   "file_extension": ".py",
   "mimetype": "text/x-python",
   "name": "python",
   "nbconvert_exporter": "python",
   "pygments_lexer": "ipython3",
   "version": "3.11.10"
  }
 },
 "nbformat": 4,
 "nbformat_minor": 5
}
