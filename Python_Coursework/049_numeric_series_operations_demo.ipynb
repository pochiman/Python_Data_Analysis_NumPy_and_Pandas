{
 "cells": [
  {
   "cell_type": "code",
   "execution_count": 1,
   "id": "d23b8f21-2798-498e-bcb7-bebefee6fe74",
   "metadata": {},
   "outputs": [
    {
     "name": "stderr",
     "output_type": "stream",
     "text": [
      "/var/folders/bm/h1t1wfk16y5gv2b9svjm7mzw0000gn/T/ipykernel_6331/2162656668.py:1: DeprecationWarning: \n",
      "Pyarrow will become a required dependency of pandas in the next major release of pandas (pandas 3.0),\n",
      "(to allow more performant data types, such as the Arrow string type, and better interoperability with other libraries)\n",
      "but was not found to be installed on your system.\n",
      "If this would cause problems for you,\n",
      "please provide us feedback at https://github.com/pandas-dev/pandas/issues/54466\n",
      "        \n",
      "  import pandas as pd\n"
     ]
    }
   ],
   "source": [
    "import pandas as pd\n",
    "import numpy as np"
   ]
  },
  {
   "cell_type": "code",
   "execution_count": 3,
   "id": "cae82cc7-22a7-4db4-825a-ebd9471531ad",
   "metadata": {},
   "outputs": [
    {
     "data": {
      "text/plain": [
       "day 0    1.0\n",
       "day 1    NaN\n",
       "day 2    2.0\n",
       "day 3    3.0\n",
       "day 4    4.0\n",
       "dtype: float64"
      ]
     },
     "execution_count": 3,
     "metadata": {},
     "output_type": "execute_result"
    }
   ],
   "source": [
    "my_series = pd.Series(\n",
    "    [1, np.NaN, 2, 3, 4], index=[\"day 0\", \"day 1\", \"day 2\", \"day 3\", \"day 4\"]\n",
    ")\n",
    "\n",
    "my_series"
   ]
  },
  {
   "cell_type": "code",
   "execution_count": 4,
   "id": "b8ed17f7-ae24-4bc7-aea4-80b7d18d0c33",
   "metadata": {},
   "outputs": [
    {
     "data": {
      "text/plain": [
       "day 0    2.0\n",
       "day 1    NaN\n",
       "day 2    3.0\n",
       "day 3    4.0\n",
       "day 4    5.0\n",
       "dtype: float64"
      ]
     },
     "execution_count": 4,
     "metadata": {},
     "output_type": "execute_result"
    }
   ],
   "source": [
    "my_series + 1"
   ]
  },
  {
   "cell_type": "code",
   "execution_count": 5,
   "id": "81e687ed-3891-4116-be87-3fc4f2c3ccc4",
   "metadata": {},
   "outputs": [
    {
     "data": {
      "text/plain": [
       "day 0    2.0\n",
       "day 1    1.0\n",
       "day 2    3.0\n",
       "day 3    4.0\n",
       "day 4    5.0\n",
       "dtype: float64"
      ]
     },
     "execution_count": 5,
     "metadata": {},
     "output_type": "execute_result"
    }
   ],
   "source": [
    "my_series.add(1, fill_value=0)"
   ]
  },
  {
   "cell_type": "code",
   "execution_count": 7,
   "id": "fe8876ad-4630-4d13-b1b0-69cf7cec4c19",
   "metadata": {},
   "outputs": [],
   "source": [
    "my_series2 = my_series.add(1, fill_value=0).astype('int')"
   ]
  },
  {
   "cell_type": "code",
   "execution_count": 8,
   "id": "9a03fa23-3450-4843-8eed-6b77b0b1819b",
   "metadata": {},
   "outputs": [
    {
     "data": {
      "text/plain": [
       "day 0    2\n",
       "day 1    1\n",
       "day 2    3\n",
       "day 3    4\n",
       "day 4    5\n",
       "dtype: int64"
      ]
     },
     "execution_count": 8,
     "metadata": {},
     "output_type": "execute_result"
    }
   ],
   "source": [
    "my_series2"
   ]
  },
  {
   "cell_type": "code",
   "execution_count": 9,
   "id": "6c214540-0048-40a1-9c1a-fb8df3f051c9",
   "metadata": {},
   "outputs": [
    {
     "data": {
      "text/plain": [
       "day 0    1.0\n",
       "day 1    0.5\n",
       "day 2    1.5\n",
       "day 3    2.0\n",
       "day 4    2.5\n",
       "dtype: float64"
      ]
     },
     "execution_count": 9,
     "metadata": {},
     "output_type": "execute_result"
    }
   ],
   "source": [
    "my_series2 / 2"
   ]
  },
  {
   "cell_type": "code",
   "execution_count": 10,
   "id": "5b2bf1f6-7822-4357-be82-00f33970aeb8",
   "metadata": {},
   "outputs": [
    {
     "data": {
      "text/plain": [
       "day 0     4\n",
       "day 1     2\n",
       "day 2     6\n",
       "day 3     8\n",
       "day 4    10\n",
       "dtype: int64"
      ]
     },
     "execution_count": 10,
     "metadata": {},
     "output_type": "execute_result"
    }
   ],
   "source": [
    "my_series2 * 2"
   ]
  },
  {
   "cell_type": "code",
   "execution_count": 11,
   "id": "96a1d898-5732-461f-b3cc-5504f620c2d1",
   "metadata": {},
   "outputs": [
    {
     "data": {
      "text/plain": [
       "day 0    1\n",
       "day 1    0\n",
       "day 2    1\n",
       "day 3    2\n",
       "day 4    2\n",
       "dtype: int64"
      ]
     },
     "execution_count": 11,
     "metadata": {},
     "output_type": "execute_result"
    }
   ],
   "source": [
    "my_series2 // 2"
   ]
  },
  {
   "cell_type": "code",
   "execution_count": 12,
   "id": "d6b70604-1958-4bda-a8cc-b8b7d2ed243f",
   "metadata": {},
   "outputs": [
    {
     "data": {
      "text/plain": [
       "day 0    3.0\n",
       "day 1    NaN\n",
       "day 2    5.0\n",
       "day 3    7.0\n",
       "day 4    9.0\n",
       "dtype: float64"
      ]
     },
     "execution_count": 12,
     "metadata": {},
     "output_type": "execute_result"
    }
   ],
   "source": [
    "my_series + my_series2"
   ]
  },
  {
   "cell_type": "code",
   "execution_count": 13,
   "id": "ee0b8e2c-c19d-4ee8-9fa5-9f72d919418e",
   "metadata": {},
   "outputs": [
    {
     "data": {
      "text/plain": [
       "day 0    3.0\n",
       "day 1    1.0\n",
       "day 2    5.0\n",
       "day 3    7.0\n",
       "day 4    9.0\n",
       "dtype: float64"
      ]
     },
     "execution_count": 13,
     "metadata": {},
     "output_type": "execute_result"
    }
   ],
   "source": [
    "my_series.add(my_series2, fill_value=0)"
   ]
  },
  {
   "cell_type": "code",
   "execution_count": 14,
   "id": "21f0f295-e3b3-4fe0-9bea-4dc7368fab9d",
   "metadata": {},
   "outputs": [
    {
     "data": {
      "text/plain": [
       "day 0    1.5\n",
       "day 1    NaN\n",
       "day 2    2.5\n",
       "day 3    3.5\n",
       "day 4    4.5\n",
       "dtype: float64"
      ]
     },
     "execution_count": 14,
     "metadata": {},
     "output_type": "execute_result"
    }
   ],
   "source": [
    "(my_series + my_series2) / 2"
   ]
  },
  {
   "cell_type": "code",
   "execution_count": 15,
   "id": "c18a5c49-ac2e-40a7-8963-28502010f9d3",
   "metadata": {},
   "outputs": [
    {
     "data": {
      "text/plain": [
       "day 0    2.5\n",
       "day 1    NaN\n",
       "day 2    4.0\n",
       "day 3    5.5\n",
       "day 4    7.0\n",
       "dtype: float64"
      ]
     },
     "execution_count": 15,
     "metadata": {},
     "output_type": "execute_result"
    }
   ],
   "source": [
    "(my_series + my_series2 * 2) / 2"
   ]
  },
  {
   "cell_type": "code",
   "execution_count": null,
   "id": "22e2ce4f-b1e6-469c-b359-8d278d83f64d",
   "metadata": {},
   "outputs": [],
   "source": []
  }
 ],
 "metadata": {
  "kernelspec": {
   "display_name": "Python 3 (ipykernel)",
   "language": "python",
   "name": "python3"
  },
  "language_info": {
   "codemirror_mode": {
    "name": "ipython",
    "version": 3
   },
   "file_extension": ".py",
   "mimetype": "text/x-python",
   "name": "python",
   "nbconvert_exporter": "python",
   "pygments_lexer": "ipython3",
   "version": "3.11.10"
  }
 },
 "nbformat": 4,
 "nbformat_minor": 5
}
