{
 "cells": [
  {
   "cell_type": "code",
   "execution_count": 1,
   "id": "ed21f469-6185-4d2d-8801-d287750b553c",
   "metadata": {},
   "outputs": [],
   "source": [
    "import pandas as pd"
   ]
  },
  {
   "cell_type": "code",
   "execution_count": null,
   "id": "44189f8a-91f8-4dd8-8d1c-7bc912342559",
   "metadata": {},
   "outputs": [],
   "source": [
    "columns = [\"index\", \"Date\", \"Oil Price\", \"Date2\"]\n",
    "# string_slice = lambda x: int(x[-2:])\n",
    "\n",
    "oil = pd.read_csv(\"../retail/oil.csv\",\n",
    "                  header=0,\n",
    "                  names=columns,\n",
    "                  parse_dates=[\"Date\", \"Date2\"],\n",
    "                  infer_datetime_format=True,\n",
    "                  index_col=\"Date\",\n",
    "                  dtype={\"index\": \"Int16\"},\n",
    "                  # converters={\"Date2\": string_slice}\n",
    "                 )\n",
    "\n",
    "oil.head()"
   ]
  },
  {
   "cell_type": "code",
   "execution_count": null,
   "id": "c4f62ae9-c5e6-4723-93c6-af2f61563b88",
   "metadata": {},
   "outputs": [],
   "source": [
    "columns = [\"index\", \"Date\", \"Oil Price\", \"Date2\"]\n",
    "# string_slice = lambda x: int(x[-2:])\n",
    "\n",
    "oil = pd.read_csv(\"../retail/oil.csv\",\n",
    "                  header=0,\n",
    "                  names=columns,\n",
    "                  parse_dates=[\"Date\"],\n",
    "                  infer_datetime_format=True,\n",
    "                  index_col=\"Date\",\n",
    "                  dtype={\"index\": \"Int16\"},\n",
    "                  # converters={\"Date2\": string_slice}\n",
    "                 )\n",
    "\n",
    "oil.head()"
   ]
  },
  {
   "cell_type": "code",
   "execution_count": null,
   "id": "4e07650c-591c-47b6-a5a2-6bba0048683c",
   "metadata": {},
   "outputs": [],
   "source": [
    "columns = [\"index\", \"Date\", \"Oil Price\", \"Date2\"]\n",
    "string_slice = lambda x: int(x[-2:])\n",
    "\n",
    "oil = pd.read_csv(\"../retail/oil.csv\",\n",
    "                  header=0,\n",
    "                  names=columns,\n",
    "                  parse_dates=[\"Date\"],\n",
    "                  infer_datetime_format=True,\n",
    "                  index_col=\"Date\",\n",
    "                  dtype={\"index\": \"Int16\"},\n",
    "                  converters={\"Date2\": string_slice}\n",
    "                 )\n",
    "\n",
    "oil.head()"
   ]
  },
  {
   "cell_type": "code",
   "execution_count": null,
   "id": "32e5f30d-d49c-4dc6-94bf-e13742409ec7",
   "metadata": {},
   "outputs": [],
   "source": [
    "columns = [\"index\", \"Date\", \"Oil Price\", \"Date2\"]\n",
    "string_slice = lambda x: int(x[-2:])\n",
    "\n",
    "oil = pd.read_csv(\"../retail/oil.csv\",\n",
    "                  header=0,\n",
    "                  names=columns,\n",
    "                  parse_dates=[\"Date\"],\n",
    "                  infer_datetime_format=True,\n",
    "                  index_col=\"Date\",\n",
    "                  dtype={\"index\": \"Int16\"},\n",
    "                  converters={\"Date2\": string_slice}\n",
    "                 )\n",
    "\n",
    "oil.head()"
   ]
  },
  {
   "cell_type": "code",
   "execution_count": 8,
   "id": "43453029-8993-4158-81fa-7fcf51e90bfd",
   "metadata": {},
   "outputs": [
    {
     "name": "stdout",
     "output_type": "stream",
     "text": [
      "<class 'pandas.core.frame.DataFrame'>\n",
      "DatetimeIndex: 1218 entries, 2013-01-01 to 2017-08-31\n",
      "Data columns (total 1 columns):\n",
      " #   Column  Non-Null Count  Dtype \n",
      "---  ------  --------------  ----- \n",
      " 0   Date2   1175 non-null   object\n",
      "dtypes: object(1)\n",
      "memory usage: 19.0+ KB\n"
     ]
    }
   ],
   "source": [
    "oil.info()"
   ]
  },
  {
   "cell_type": "code",
   "execution_count": null,
   "id": "343a0f72-7274-43dd-aeff-deebe36cc076",
   "metadata": {},
   "outputs": [],
   "source": []
  }
 ],
 "metadata": {
  "kernelspec": {
   "display_name": "Python 3 (ipykernel)",
   "language": "python",
   "name": "python3"
  },
  "language_info": {
   "codemirror_mode": {
    "name": "ipython",
    "version": 3
   },
   "file_extension": ".py",
   "mimetype": "text/x-python",
   "name": "python",
   "nbconvert_exporter": "python",
   "pygments_lexer": "ipython3",
   "version": "3.11.10"
  }
 },
 "nbformat": 4,
 "nbformat_minor": 5
}
